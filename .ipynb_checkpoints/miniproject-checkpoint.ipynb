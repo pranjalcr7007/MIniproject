{
 "cells": [
  {
   "cell_type": "code",
   "execution_count": 1,
   "metadata": {
    "colab": {
     "base_uri": "https://localhost:8080/"
    },
    "id": "ai-ktGFN2iba",
    "outputId": "7189ce2d-e680-465d-b766-9e444bebe85e"
   },
   "outputs": [
    {
     "name": "stdout",
     "output_type": "stream",
     "text": [
      "Requirement already satisfied: bing-image-downloader in c:\\programdata\\anaconda3\\lib\\site-packages (1.0.4)\n",
      "Note: you may need to restart the kernel to use updated packages.\n"
     ]
    }
   ],
   "source": [
    "pip install bing-image-downloader"
   ]
  },
  {
   "cell_type": "code",
   "execution_count": 2,
   "metadata": {
    "colab": {
     "base_uri": "https://localhost:8080/"
    },
    "id": "Rto15jWd3NQM",
    "outputId": "8cd13c6b-04d7-4e1f-abc3-189bbcfa1f5f"
   },
   "outputs": [
    {
     "name": "stderr",
     "output_type": "stream",
     "text": [
      "A subdirectory or file images already exists.\n"
     ]
    }
   ],
   "source": [
    "!mkdir images"
   ]
  },
  {
   "cell_type": "code",
   "execution_count": null,
   "metadata": {
    "colab": {
     "base_uri": "https://localhost:8080/"
    },
    "id": "MP8ep_r93Xca",
    "outputId": "546f1570-e925-40d5-98cf-4d61256e4dcb"
   },
   "outputs": [],
   "source": [
    "\n"
   ]
  },
  {
   "cell_type": "code",
   "execution_count": 4,
   "metadata": {
    "colab": {
     "base_uri": "https://localhost:8080/"
    },
    "id": "mvfp-15k3ZkJ",
    "outputId": "7084fe4d-0d02-4f8c-865d-45e11b44721d"
   },
   "outputs": [
    {
     "name": "stdout",
     "output_type": "stream",
     "text": [
      " Volume in drive C is Windows-SSD\n",
      " Volume Serial Number is A2DB-4C85\n",
      "\n",
      " Directory of C:\\Users\\Pranjal\n",
      "\n",
      "23-05-2021  06:01    <DIR>          .\n",
      "23-05-2021  06:01    <DIR>          ..\n",
      "23-05-2021  05:54    <DIR>          .android\n",
      "12-11-2020  08:26    <DIR>          .astropy\n",
      "07-10-2020  13:28               151 .bash_history\n",
      "23-05-2021  05:54    <DIR>          .BigNox\n",
      "28-03-2020  17:49    <DIR>          .cache\n",
      "25-05-2021  12:05    <DIR>          .conda\n",
      "25-05-2021  12:04                43 .condarc\n",
      "12-11-2020  08:30    <DIR>          .config\n",
      "09-02-2021  01:55    <DIR>          .docker\n",
      "22-01-2021  14:48    <DIR>          .dotnet\n",
      "07-03-2020  22:52    <DIR>          .eclipse\n",
      "04-11-2020  00:18               212 .gitconfig\n",
      "07-11-2020  23:58    <DIR>          .graphlab\n",
      "01-04-2020  22:05    <DIR>          .icons\n",
      "08-07-2020  15:04    <DIR>          .idlerc\n",
      "11-05-2021  19:44    <DIR>          .ipynb_checkpoints\n",
      "17-09-2020  21:51    <DIR>          .ipython\n",
      "29-10-2020  04:18    <DIR>          .jupyter\n",
      "08-02-2021  12:48    <DIR>          .librarymanager\n",
      "10-05-2020  01:37    <DIR>          .m2\n",
      "12-11-2020  08:30    <DIR>          .matplotlib\n",
      "28-04-2020  18:48    <DIR>          .nbi\n",
      "09-10-2020  08:31    <DIR>          .Origin\n",
      "04-02-2021  22:22    <DIR>          .p2\n",
      "05-03-2020  16:23    <DIR>          .PyCharmCE2019.3\n",
      "11-04-2021  03:53    <DIR>          .pylint.d\n",
      "09-10-2020  08:31    <DIR>          .QtWebEngineProcess\n",
      "29-10-2020  04:21    <DIR>          .spyder-py3\n",
      "04-02-2021  18:23    <DIR>          .templateengine\n",
      "01-04-2020  21:55    <DIR>          .themes\n",
      "07-03-2020  22:52    <DIR>          .tooling\n",
      "02-09-2020  09:18    <DIR>          .vscode\n",
      "11-04-2021  03:53    <DIR>          .wdm\n",
      "08-11-2019  10:15    <DIR>          .Xilinx\n",
      "01-04-2020  21:41         1,374,617 159209-Shell-OSX.zip\n",
      "15-03-2021  07:09    <DIR>          3D Objects\n",
      "03-07-2016  18:28        11,614,215 5120 x 2880.jpg\n",
      "23-12-2020  11:40             2,314 7.java\n",
      "18-11-2020  12:59                66 abc.txt\n",
      "14-11-2019  21:27    <DIR>          ansel\n",
      "10-12-2019  14:32    <DIR>          Apple\n",
      "26-03-2020  12:19       308,447,574 Badshah - Genda Phool _ JacquelineFernandez _ Payal Dev _ Official Music Video 2020-SD4Z8dlZPd8.webm\n",
      "18-11-2020  11:15             2,611 BellmanFord.class\n",
      "18-11-2020  11:33             1,701 BellmanFord.java\n",
      "12-11-2020  09:03    <DIR>          buyMORE1\n",
      "28-10-2020  12:36    <DIR>          cartridge-master\n",
      "27-10-2020  16:46    <DIR>          cm\n",
      "22-12-2019  16:24    <DIR>          code\n",
      "15-03-2021  07:09    <DIR>          Contacts\n",
      "23-12-2020  12:39             2,406 CRC.class\n",
      "23-12-2020  11:42             2,213 CRC.java\n",
      "23-05-2021  06:01               299 d4ac4633ebd6440fa397b84f1bc94a3c.7z\n",
      "25-05-2021  12:04    <DIR>          Desktop\n",
      "29-09-2020  14:53    <DIR>          dj4e-samples\n",
      "26-08-2020  10:37    <DIR>          django\n",
      "11-11-2020  10:49               334 django.conf\n",
      "13-09-2020  21:33    <DIR>          django_project_boilerplate-master\n",
      "28-09-2020  12:50    <DIR>          django_projects\n",
      "10-09-2020  17:48    <DIR>          django-for-everybody-specialization\n",
      "23-05-2018  10:30    <DIR>          django-oscar-1.6.0\n",
      "12-11-2020  08:34    <DIR>          django-oscar-razorpay\n",
      "17-05-2021  00:24    <DIR>          Documents\n",
      "25-05-2021  12:00    <DIR>          Downloads\n",
      "11-09-2020  12:41    <DIR>          Dropbox\n",
      "22-05-2021  02:30    <DIR>          dwhelper\n",
      "07-03-2020  22:39    <DIR>          eclipse\n",
      "25-03-2020  02:39    <DIR>          eclipse-workspace\n",
      "28-10-2020  18:11    <DIR>          ecom\n",
      "14-06-2019  00:16         2,887,856 Eminem Ft. Rihanna - Love The Way You Lie (Full HD) ?1080P?-ogm9Msxnp2k.webm\n",
      "19-11-2020  09:55    <DIR>          Envs\n",
      "15-03-2021  07:09    <DIR>          Favorites\n",
      "28-04-2021  18:54           127,723 flavors_of_cacao.csv\n",
      "21-09-2020  03:42    <DIR>          fullstack-course4\n",
      "30-09-2020  20:55         1,885,433 get-pip.py\n",
      "14-05-2021  17:58                66 inittk.ini\n",
      "14-05-2021  17:58                41 inst.ini\n",
      "10-04-2020  06:37    <DIR>          Intel\n",
      "10-11-2019  18:58             1,089 Internet Download Manager.lnk\n",
      "13-12-2020  15:41    <DIR>          Internship\n",
      "23-01-2021  10:15    <DIR>          lab\n",
      "23-01-2021  10:26             7,841 lab.c\n",
      "15-03-2021  07:09    <DIR>          Links\n",
      "01-04-2020  21:51        16,695,591 macOS-Sierra-master.zip\n",
      "28-01-2021  20:34    <DIR>          main\n",
      "28-01-2021  20:34               645 manage.py\n",
      "13-12-2020  15:18         9,292,386 Media-share.mp4\n",
      "06-05-2021  01:26    <DIR>          Music\n",
      "29-10-2020  02:20    <DIR>          my_site\n",
      "09-09-2020  20:40    <DIR>          mysite\n",
      "11-12-2020  00:47    <DIR>          New folder\n",
      "24-12-2020  22:37    <DIR>          new9\n",
      "09-10-2019  01:23        26,757,632 ngrok.exe\n",
      "14-05-2021  17:58    <DIR>          Nox_share\n",
      "14-05-2021  17:58                45 nuuid.ini\n",
      "13-05-2021  14:00    <DIR>          OneDrive\n",
      "02-02-2021  12:24    <DIR>          Oracle\n",
      "13-01-2021  11:32             4,172 p2.tcl\n",
      "27-04-2021  20:21    <DIR>          Pictures\n",
      "29-01-2021  20:10    <DIR>          program\n",
      "11-09-2020  12:47    <DIR>          proj\n",
      "28-10-2020  12:02    <DIR>          project\n",
      "26-08-2020  10:37    <DIR>          projects\n",
      "28-02-2021  01:18    <DIR>          PycharmProjects\n",
      "18-11-2020  10:53                 0 rsa\n",
      "04-02-2021  22:25             3,185 RSA.class\n",
      "04-02-2021  22:32             2,344 RSA.java\n",
      "15-03-2021  07:09    <DIR>          Saved Games\n",
      "13-12-2020  16:51         3,479,395 search.mp4\n",
      "15-03-2021  07:09    <DIR>          Searches\n",
      "28-10-2020  12:55    <DIR>          sellIT\n",
      "08-07-2020  15:47    <DIR>          source\n",
      "28-10-2020  14:18    <DIR>          src\n",
      "14-12-2020  15:01             1,312 TCPClient.class\n",
      "18-11-2020  12:31               898 TCPClient.java\n",
      "14-12-2020  15:00             1,455 TCPServer.class\n",
      "18-11-2020  12:32             1,105 TCPServer.java\n",
      "18-11-2020  12:04             1,778 UDPClient.class\n",
      "18-11-2020  11:58               958 UDPClient.java\n",
      "18-11-2020  12:04             1,293 UDPServer.class\n",
      "07-11-2020  05:24               555 Untitled.ipynb\n",
      "07-11-2020  22:11             6,476 Untitled1.ipynb\n",
      "07-11-2020  23:56             3,172 Untitled2.ipynb\n",
      "15-04-2021  00:59               556 Untitled3.ipynb\n",
      "11-05-2021  15:36            26,705 Untitled4.ipynb\n",
      "16-05-2021  05:26           216,318 Untitled5.ipynb\n",
      "18-11-2020  12:00               959 UPDServer.java\n",
      "14-05-2021  17:58                53 useruid.ini\n",
      "23-05-2021  23:43    <DIR>          Videos\n",
      "23-05-2021  05:54    <DIR>          vmlogs\n",
      "07-01-2021  10:18    <DIR>          webapp\n",
      "06-12-2020  20:18    <DIR>          word\n",
      "28-03-2020  17:43         8,053,408 youtube-dl.exe\n",
      "              47 File(s)    390,911,201 bytes\n",
      "              87 Dir(s)  35,638,292,480 bytes free\n"
     ]
    }
   ],
   "source": []
  },
  {
   "cell_type": "code",
   "execution_count": null,
   "metadata": {
    "colab": {
     "base_uri": "https://localhost:8080/"
    },
    "id": "uzjxe-Vq3amJ",
    "outputId": "91b21890-459d-433a-b94d-da513b65bc46"
   },
   "outputs": [],
   "source": []
  },
  {
   "cell_type": "code",
   "execution_count": 3,
   "metadata": {
    "colab": {
     "base_uri": "https://localhost:8080/"
    },
    "id": "VEETbAFp3cwq",
    "outputId": "8a9e2c9e-3714-4c9f-fc20-9a2d1e3670ff"
   },
   "outputs": [
    {
     "name": "stdout",
     "output_type": "stream",
     "text": [
      " Volume in drive C is Windows-SSD\n",
      " Volume Serial Number is A2DB-4C85\n",
      "\n",
      " Directory of C:\\Users\\Pranjal\\Documents\\GitHub\\MIniproject\n",
      "\n",
      "25-05-2021  12:05    <DIR>          .\n",
      "25-05-2021  12:05    <DIR>          ..\n",
      "25-05-2021  12:04    <DIR>          .ipynb_checkpoints\n",
      "25-05-2021  12:05    <DIR>          images\n",
      "25-05-2021  11:58           178,990 miniproject.ipynb\n",
      "               1 File(s)        178,990 bytes\n",
      "               4 Dir(s)  35,627,278,336 bytes free\n"
     ]
    }
   ],
   "source": [
    "ls"
   ]
  },
  {
   "cell_type": "code",
   "execution_count": 4,
   "metadata": {
    "id": "WLoOX7ky3kfK"
   },
   "outputs": [],
   "source": [
    "from bing_image_downloader import downloader"
   ]
  },
  {
   "cell_type": "code",
   "execution_count": 8,
   "metadata": {
    "colab": {
     "base_uri": "https://localhost:8080/"
    },
    "id": "1jZek50i3wmq",
    "outputId": "5f32144a-cdfb-4f5b-c690-1b901d0df99d"
   },
   "outputs": [
    {
     "name": "stdout",
     "output_type": "stream",
     "text": [
      "\n",
      "\n",
      "[!!]Indexing page: 1\n",
      "\n",
      "[%] Indexed 8 Images on Page 1.\n",
      "\n",
      "===============================================\n",
      "\n",
      "[%] Downloading Image #1 from https://plants.squakmtnursery.com/Content/Images/Photos/F663-08.jpg\n",
      "[%] File Downloaded !\n",
      "\n",
      "[%] Downloading Image #2 from http://media.idownloadblog.com/wp-content/uploads/2014/11/iPhone-6-Flower-3-JasonZigrino.jpg\n",
      "[%] File Downloaded !\n",
      "\n",
      "[%] Downloading Image #3 from http://www.minnesotawildflowers.info/udata/r9ndp23q/purple/dalea-purpurea-purple-prairie-clover_0727_105055.jpg\n",
      "[%] File Downloaded !\n",
      "\n",
      "[%] Downloading Image #4 from http://www.perfectwedding.me/wp-content/uploads/2013/03/cake-flowers.jpg\n",
      "[%] File Downloaded !\n",
      "\n",
      "[%] Downloading Image #5 from http://www.iclarified.com/images/news/43810/196664/196664.png\n",
      "[%] File Downloaded !\n",
      "\n",
      "[%] Downloading Image #6 from http://cdn.goodshomedesign.com/wp-content/uploads/2017/10/Monster-Plant-2-575x1024.jpg\n",
      "[%] File Downloaded !\n",
      "\n",
      "[%] Downloading Image #7 from http://www.zoebuckman.com/wp-content/uploads/2015/05/bright-colorful-flowers-fine-art-photography-present-life.jpg\n",
      "[%] File Downloaded !\n",
      "\n",
      "[%] Downloading Image #8 from https://babyshowerideas4u.com/wp-content/uploads/2016/09/Starry-Night-Baby-Shower-Flower-Bouquet.jpg\n",
      "[%] File Downloaded !\n",
      "\n",
      "\n",
      "\n",
      "[!!]Indexing page: 2\n",
      "\n",
      "[%] Indexed 10 Images on Page 2.\n",
      "\n",
      "===============================================\n",
      "\n",
      "[%] Downloading Image #9 from http://cdn.architecturendesign.net/wp-content/uploads/2015/07/AD-Spilled-Flowers-Garden-Ideas-07.jpg\n",
      "[%] File Downloaded !\n",
      "\n",
      "[%] Downloading Image #10 from https://theweddingplaybook.com/wp-content/uploads/Boho-Country-Wedding-With-Native-Flowers-Bride-Bouquet.jpg\n",
      "[%] File Downloaded !\n",
      "\n",
      "[%] Downloading Image #11 from http://www.minnesotawildflowers.info/udata/r9ndp23q/pd/lactuca-canadensis-24.jpg\n",
      "[%] File Downloaded !\n",
      "\n",
      "[%] Downloading Image #12 from https://pizzazzerie.com/wp-content/uploads/2015/11/beautiful-fall-cake.jpg\n",
      "[%] File Downloaded !\n",
      "\n",
      "[%] Downloading Image #13 from https://www.minnesotawildflowers.info/udata/r9ndp23q/pd/cardamine-pratensis-67836-30.jpg\n",
      "[%] File Downloaded !\n",
      "\n",
      "[%] Downloading Image #14 from http://myamazingthings.com/wp-content/uploads/2017/05/stairs-flowers-8-.jpg\n",
      "[%] File Downloaded !\n",
      "\n",
      "[%] Downloading Image #15 from https://hative.com/wp-content/uploads/2014/12/seashell-project-ideas/8-seashell-flower.jpg\n",
      "[%] File Downloaded !\n",
      "\n",
      "[%] Downloading Image #16 from http://www.woohome.com/wp-content/uploads/2016/02/ValentinesDayCrafts-25.jpg\n",
      "[%] File Downloaded !\n",
      "\n",
      "[%] Downloading Image #17 from https://www.minnesotawildflowers.info/udata/r9ndp23q/pink/pointed-leaf-tick-trefoil_0719_104614.jpg\n",
      "[%] File Downloaded !\n",
      "\n",
      "[%] Downloading Image #18 from https://www.enoivado.com.br/wp-content/uploads/2017/01/decoracao-de-casamento-com-origami-centro-de-mesa-9.jpg\n",
      "[%] File Downloaded !\n",
      "\n",
      "\n",
      "\n",
      "[!!]Indexing page: 3\n",
      "\n",
      "[%] Indexed 7 Images on Page 3.\n",
      "\n",
      "===============================================\n",
      "\n",
      "[%] Downloading Image #19 from http://media.idownloadblog.com/wp-content/uploads/2014/11/iPhone-6-Flower-3-JasonZigrino.jpg\n",
      "[%] File Downloaded !\n",
      "\n",
      "[%] Downloading Image #20 from http://www.minnesotawildflowers.info/udata/r9ndp23q/purple/dalea-purpurea-purple-prairie-clover_0727_105055.jpg\n",
      "[%] File Downloaded !\n",
      "\n",
      "[%] Downloading Image #21 from https://babyshowerideas4u.com/wp-content/uploads/2016/09/Starry-Night-Baby-Shower-Flower-Bouquet.jpg\n",
      "[%] File Downloaded !\n",
      "\n",
      "[%] Downloading Image #22 from http://www.iclarified.com/images/news/43810/196664/196664.png\n",
      "[%] File Downloaded !\n",
      "\n",
      "[%] Downloading Image #23 from http://www.zoebuckman.com/wp-content/uploads/2015/05/bright-colorful-flowers-fine-art-photography-present-life.jpg\n",
      "[%] File Downloaded !\n",
      "\n",
      "[%] Downloading Image #24 from http://cdn.goodshomedesign.com/wp-content/uploads/2017/10/Monster-Plant-2-575x1024.jpg\n",
      "[%] File Downloaded !\n",
      "\n",
      "[%] Downloading Image #25 from http://www.perfectwedding.me/wp-content/uploads/2013/03/cake-flowers.jpg\n",
      "[%] File Downloaded !\n",
      "\n",
      "\n",
      "\n",
      "[!!]Indexing page: 4\n",
      "\n",
      "[%] Indexed 6 Images on Page 4.\n",
      "\n",
      "===============================================\n",
      "\n",
      "[%] Downloading Image #26 from http://www.minnesotawildflowers.info/udata/r9ndp23q/purple/dalea-purpurea-purple-prairie-clover_0727_105055.jpg\n",
      "[%] File Downloaded !\n",
      "\n",
      "[%] Downloading Image #27 from http://cdn.goodshomedesign.com/wp-content/uploads/2017/10/Monster-Plant-2-575x1024.jpg\n",
      "[%] File Downloaded !\n",
      "\n",
      "[%] Downloading Image #28 from http://www.iclarified.com/images/news/43810/196664/196664.png\n",
      "[%] File Downloaded !\n",
      "\n",
      "[%] Downloading Image #29 from http://www.zoebuckman.com/wp-content/uploads/2015/05/bright-colorful-flowers-fine-art-photography-present-life.jpg\n",
      "[%] File Downloaded !\n",
      "\n",
      "[%] Downloading Image #30 from http://www.perfectwedding.me/wp-content/uploads/2013/03/cake-flowers.jpg\n",
      "[%] File Downloaded !\n",
      "\n",
      "\n",
      "\n",
      "[%] Done. Downloaded 30 images.\n",
      "\n",
      "===============================================\n",
      "\n"
     ]
    }
   ],
   "source": []
  },
  {
   "cell_type": "code",
   "execution_count": 9,
   "metadata": {
    "colab": {
     "base_uri": "https://localhost:8080/"
    },
    "id": "7OELLNgr4FJa",
    "outputId": "dfa6cb30-e8c6-4433-dcac-e2ca2c6a18c3"
   },
   "outputs": [
    {
     "name": "stdout",
     "output_type": "stream",
     "text": [
      " Volume in drive C is Windows-SSD\n",
      " Volume Serial Number is A2DB-4C85\n",
      "\n",
      " Directory of C:\\Users\\Pranjal\n",
      "\n",
      "25-05-2021  12:05    <DIR>          .\n",
      "25-05-2021  12:05    <DIR>          ..\n",
      "23-05-2021  05:54    <DIR>          .android\n",
      "12-11-2020  08:26    <DIR>          .astropy\n",
      "07-10-2020  13:28               151 .bash_history\n",
      "23-05-2021  05:54    <DIR>          .BigNox\n",
      "28-03-2020  17:49    <DIR>          .cache\n",
      "25-05-2021  12:06    <DIR>          .conda\n",
      "25-05-2021  12:04                43 .condarc\n",
      "12-11-2020  08:30    <DIR>          .config\n",
      "09-02-2021  01:55    <DIR>          .docker\n",
      "22-01-2021  14:48    <DIR>          .dotnet\n",
      "07-03-2020  22:52    <DIR>          .eclipse\n",
      "04-11-2020  00:18               212 .gitconfig\n",
      "07-11-2020  23:58    <DIR>          .graphlab\n",
      "01-04-2020  22:05    <DIR>          .icons\n",
      "08-07-2020  15:04    <DIR>          .idlerc\n",
      "11-05-2021  19:44    <DIR>          .ipynb_checkpoints\n",
      "17-09-2020  21:51    <DIR>          .ipython\n",
      "29-10-2020  04:18    <DIR>          .jupyter\n",
      "08-02-2021  12:48    <DIR>          .librarymanager\n",
      "10-05-2020  01:37    <DIR>          .m2\n",
      "12-11-2020  08:30    <DIR>          .matplotlib\n",
      "28-04-2020  18:48    <DIR>          .nbi\n",
      "09-10-2020  08:31    <DIR>          .Origin\n",
      "04-02-2021  22:22    <DIR>          .p2\n",
      "05-03-2020  16:23    <DIR>          .PyCharmCE2019.3\n",
      "11-04-2021  03:53    <DIR>          .pylint.d\n",
      "09-10-2020  08:31    <DIR>          .QtWebEngineProcess\n",
      "29-10-2020  04:21    <DIR>          .spyder-py3\n",
      "04-02-2021  18:23    <DIR>          .templateengine\n",
      "01-04-2020  21:55    <DIR>          .themes\n",
      "07-03-2020  22:52    <DIR>          .tooling\n",
      "02-09-2020  09:18    <DIR>          .vscode\n",
      "11-04-2021  03:53    <DIR>          .wdm\n",
      "08-11-2019  10:15    <DIR>          .Xilinx\n",
      "01-04-2020  21:41         1,374,617 159209-Shell-OSX.zip\n",
      "15-03-2021  07:09    <DIR>          3D Objects\n",
      "03-07-2016  18:28        11,614,215 5120 x 2880.jpg\n",
      "23-12-2020  11:40             2,314 7.java\n",
      "18-11-2020  12:59                66 abc.txt\n",
      "14-11-2019  21:27    <DIR>          ansel\n",
      "10-12-2019  14:32    <DIR>          Apple\n",
      "26-03-2020  12:19       308,447,574 Badshah - Genda Phool _ JacquelineFernandez _ Payal Dev _ Official Music Video 2020-SD4Z8dlZPd8.webm\n",
      "18-11-2020  11:15             2,611 BellmanFord.class\n",
      "18-11-2020  11:33             1,701 BellmanFord.java\n",
      "12-11-2020  09:03    <DIR>          buyMORE1\n",
      "28-10-2020  12:36    <DIR>          cartridge-master\n",
      "27-10-2020  16:46    <DIR>          cm\n",
      "22-12-2019  16:24    <DIR>          code\n",
      "15-03-2021  07:09    <DIR>          Contacts\n",
      "23-12-2020  12:39             2,406 CRC.class\n",
      "23-12-2020  11:42             2,213 CRC.java\n",
      "23-05-2021  06:01               299 d4ac4633ebd6440fa397b84f1bc94a3c.7z\n",
      "25-05-2021  12:05    <DIR>          dataset\n",
      "25-05-2021  12:04    <DIR>          Desktop\n",
      "29-09-2020  14:53    <DIR>          dj4e-samples\n",
      "26-08-2020  10:37    <DIR>          django\n",
      "11-11-2020  10:49               334 django.conf\n",
      "13-09-2020  21:33    <DIR>          django_project_boilerplate-master\n",
      "28-09-2020  12:50    <DIR>          django_projects\n",
      "10-09-2020  17:48    <DIR>          django-for-everybody-specialization\n",
      "23-05-2018  10:30    <DIR>          django-oscar-1.6.0\n",
      "12-11-2020  08:34    <DIR>          django-oscar-razorpay\n",
      "17-05-2021  00:24    <DIR>          Documents\n",
      "25-05-2021  12:00    <DIR>          Downloads\n",
      "11-09-2020  12:41    <DIR>          Dropbox\n",
      "22-05-2021  02:30    <DIR>          dwhelper\n",
      "07-03-2020  22:39    <DIR>          eclipse\n",
      "25-03-2020  02:39    <DIR>          eclipse-workspace\n",
      "28-10-2020  18:11    <DIR>          ecom\n",
      "14-06-2019  00:16         2,887,856 Eminem Ft. Rihanna - Love The Way You Lie (Full HD) ?1080P?-ogm9Msxnp2k.webm\n",
      "19-11-2020  09:55    <DIR>          Envs\n",
      "15-03-2021  07:09    <DIR>          Favorites\n",
      "28-04-2021  18:54           127,723 flavors_of_cacao.csv\n",
      "21-09-2020  03:42    <DIR>          fullstack-course4\n",
      "30-09-2020  20:55         1,885,433 get-pip.py\n",
      "14-05-2021  17:58                66 inittk.ini\n",
      "14-05-2021  17:58                41 inst.ini\n",
      "10-04-2020  06:37    <DIR>          Intel\n",
      "10-11-2019  18:58             1,089 Internet Download Manager.lnk\n",
      "13-12-2020  15:41    <DIR>          Internship\n",
      "23-01-2021  10:15    <DIR>          lab\n",
      "23-01-2021  10:26             7,841 lab.c\n",
      "15-03-2021  07:09    <DIR>          Links\n",
      "01-04-2020  21:51        16,695,591 macOS-Sierra-master.zip\n",
      "28-01-2021  20:34    <DIR>          main\n",
      "28-01-2021  20:34               645 manage.py\n",
      "13-12-2020  15:18         9,292,386 Media-share.mp4\n",
      "06-05-2021  01:26    <DIR>          Music\n",
      "29-10-2020  02:20    <DIR>          my_site\n",
      "09-09-2020  20:40    <DIR>          mysite\n",
      "11-12-2020  00:47    <DIR>          New folder\n",
      "24-12-2020  22:37    <DIR>          new9\n",
      "09-10-2019  01:23        26,757,632 ngrok.exe\n",
      "14-05-2021  17:58    <DIR>          Nox_share\n",
      "14-05-2021  17:58                45 nuuid.ini\n",
      "13-05-2021  14:00    <DIR>          OneDrive\n",
      "02-02-2021  12:24    <DIR>          Oracle\n",
      "13-01-2021  11:32             4,172 p2.tcl\n",
      "27-04-2021  20:21    <DIR>          Pictures\n",
      "29-01-2021  20:10    <DIR>          program\n",
      "11-09-2020  12:47    <DIR>          proj\n",
      "28-10-2020  12:02    <DIR>          project\n",
      "26-08-2020  10:37    <DIR>          projects\n",
      "28-02-2021  01:18    <DIR>          PycharmProjects\n",
      "18-11-2020  10:53                 0 rsa\n",
      "04-02-2021  22:25             3,185 RSA.class\n",
      "04-02-2021  22:32             2,344 RSA.java\n",
      "15-03-2021  07:09    <DIR>          Saved Games\n",
      "13-12-2020  16:51         3,479,395 search.mp4\n",
      "15-03-2021  07:09    <DIR>          Searches\n",
      "28-10-2020  12:55    <DIR>          sellIT\n",
      "08-07-2020  15:47    <DIR>          source\n",
      "28-10-2020  14:18    <DIR>          src\n",
      "14-12-2020  15:01             1,312 TCPClient.class\n",
      "18-11-2020  12:31               898 TCPClient.java\n",
      "14-12-2020  15:00             1,455 TCPServer.class\n",
      "18-11-2020  12:32             1,105 TCPServer.java\n",
      "18-11-2020  12:04             1,778 UDPClient.class\n",
      "18-11-2020  11:58               958 UDPClient.java\n",
      "18-11-2020  12:04             1,293 UDPServer.class\n",
      "07-11-2020  05:24               555 Untitled.ipynb\n",
      "07-11-2020  22:11             6,476 Untitled1.ipynb\n",
      "07-11-2020  23:56             3,172 Untitled2.ipynb\n",
      "15-04-2021  00:59               556 Untitled3.ipynb\n",
      "11-05-2021  15:36            26,705 Untitled4.ipynb\n",
      "16-05-2021  05:26           216,318 Untitled5.ipynb\n",
      "18-11-2020  12:00               959 UPDServer.java\n",
      "14-05-2021  17:58                53 useruid.ini\n",
      "23-05-2021  23:43    <DIR>          Videos\n",
      "23-05-2021  05:54    <DIR>          vmlogs\n",
      "07-01-2021  10:18    <DIR>          webapp\n",
      "06-12-2020  20:18    <DIR>          word\n",
      "28-03-2020  17:43         8,053,408 youtube-dl.exe\n",
      "              47 File(s)    390,911,201 bytes\n",
      "              88 Dir(s)  35,630,145,536 bytes free\n"
     ]
    }
   ],
   "source": [
    "ls\n"
   ]
  },
  {
   "cell_type": "code",
   "execution_count": 5,
   "metadata": {
    "colab": {
     "base_uri": "https://localhost:8080/"
    },
    "id": "SXRxTuN_4NqK",
    "outputId": "4dfa1782-12c6-4dbe-f49d-2fce1fbd291e"
   },
   "outputs": [
    {
     "name": "stdout",
     "output_type": "stream",
     "text": [
      "\n",
      "\n",
      "[!!]Indexing page: 1\n",
      "\n",
      "[%] Indexed 10 Images on Page 1.\n",
      "\n",
      "===============================================\n",
      "\n",
      "[%] Downloading Image #1 from http://cdn.architecturendesign.net/wp-content/uploads/2015/07/AD-Spilled-Flowers-Garden-Ideas-07.jpg\n",
      "[%] File Downloaded !\n",
      "\n",
      "[%] Downloading Image #2 from https://theweddingplaybook.com/wp-content/uploads/Boho-Country-Wedding-With-Native-Flowers-Bride-Bouquet.jpg\n",
      "[%] File Downloaded !\n",
      "\n",
      "[%] Downloading Image #3 from http://www.minnesotawildflowers.info/udata/r9ndp23q/pd/lactuca-canadensis-24.jpg\n",
      "[%] File Downloaded !\n",
      "\n",
      "[%] Downloading Image #4 from https://pizzazzerie.com/wp-content/uploads/2015/11/beautiful-fall-cake.jpg\n",
      "[%] File Downloaded !\n",
      "\n",
      "[%] Downloading Image #5 from https://www.minnesotawildflowers.info/udata/r9ndp23q/pd/cardamine-pratensis-67836-30.jpg\n",
      "[%] File Downloaded !\n",
      "\n",
      "[%] Downloading Image #6 from http://myamazingthings.com/wp-content/uploads/2017/05/stairs-flowers-8-.jpg\n",
      "[%] File Downloaded !\n",
      "\n",
      "[%] Downloading Image #7 from https://hative.com/wp-content/uploads/2014/12/seashell-project-ideas/8-seashell-flower.jpg\n",
      "[%] File Downloaded !\n",
      "\n",
      "[%] Downloading Image #8 from http://www.woohome.com/wp-content/uploads/2016/02/ValentinesDayCrafts-25.jpg\n",
      "[%] File Downloaded !\n",
      "\n",
      "[%] Downloading Image #9 from https://www.minnesotawildflowers.info/udata/r9ndp23q/pink/pointed-leaf-tick-trefoil_0719_104614.jpg\n",
      "[%] File Downloaded !\n",
      "\n",
      "[%] Downloading Image #10 from https://www.enoivado.com.br/wp-content/uploads/2017/01/decoracao-de-casamento-com-origami-centro-de-mesa-9.jpg\n",
      "[%] File Downloaded !\n",
      "\n",
      "\n",
      "\n",
      "[!!]Indexing page: 2\n",
      "\n",
      "[%] Indexed 8 Images on Page 2.\n",
      "\n",
      "===============================================\n",
      "\n",
      "[%] Downloading Image #11 from https://www.hdwallpapers.in/download/flower_detail-1600x900.jpg\n",
      "[%] File Downloaded !\n",
      "\n",
      "[%] Downloading Image #12 from http://www.cartoondistrict.com/wp-content/uploads/2017/06/Easy-Canvas-Painting-Ideas-For-Beginners21-1.jpg\n",
      "[%] File Downloaded !\n",
      "\n",
      "[%] Downloading Image #13 from https://whiteflowercake.com/wp-content/uploads/2010/09/webbrooke7.jpg\n",
      "[%] File Downloaded !\n",
      "\n",
      "[%] Downloading Image #14 from https://myamazingthings.com/wp-content/uploads/2017/07/clay-pot-ideas-5.jpeg\n",
      "[%] File Downloaded !\n",
      "\n",
      "[%] Downloading Image #15 from https://hative.com/wp-content/uploads/2014/10/pumpkin-carving-ideas/40-mockingjay-pumpkin.jpg\n",
      "[%] File Downloaded !\n",
      "\n",
      "[%] Downloading Image #16 from http://www.tattooeasily.com/wp-content/uploads/2014/09/day-of-dead-tattoo-8.jpg\n",
      "[%] File Downloaded !\n",
      "\n",
      "[%] Downloading Image #17 from https://www.minnesotawildflowers.info/udata/r9ndp23q/pink/white-rattlesnake-root_0830_103439.jpg\n",
      "[%] File Downloaded !\n",
      "\n",
      "[%] Downloading Image #18 from http://www.minnesotawildflowers.info/udata/r9ndp23q/blue/commelina-communis-asiatic-dayflower_0803_150431.jpg\n",
      "[%] File Downloaded !\n",
      "\n",
      "\n",
      "\n",
      "[!!]Indexing page: 3\n",
      "\n",
      "[%] Indexed 7 Images on Page 3.\n",
      "\n",
      "===============================================\n",
      "\n",
      "[%] Downloading Image #19 from http://media.idownloadblog.com/wp-content/uploads/2014/11/iPhone-6-Flower-3-JasonZigrino.jpg\n",
      "[%] File Downloaded !\n",
      "\n",
      "[%] Downloading Image #20 from http://www.minnesotawildflowers.info/udata/r9ndp23q/purple/dalea-purpurea-purple-prairie-clover_0727_105055.jpg\n",
      "[%] File Downloaded !\n",
      "\n",
      "[%] Downloading Image #21 from https://babyshowerideas4u.com/wp-content/uploads/2016/09/Starry-Night-Baby-Shower-Flower-Bouquet.jpg\n",
      "[%] File Downloaded !\n",
      "\n",
      "[%] Downloading Image #22 from http://www.iclarified.com/images/news/43810/196664/196664.png\n",
      "[%] File Downloaded !\n",
      "\n",
      "[%] Downloading Image #23 from http://www.zoebuckman.com/wp-content/uploads/2015/05/bright-colorful-flowers-fine-art-photography-present-life.jpg\n",
      "[%] File Downloaded !\n",
      "\n",
      "[%] Downloading Image #24 from http://cdn.goodshomedesign.com/wp-content/uploads/2017/10/Monster-Plant-2-575x1024.jpg\n",
      "[%] File Downloaded !\n",
      "\n",
      "[%] Downloading Image #25 from http://www.perfectwedding.me/wp-content/uploads/2013/03/cake-flowers.jpg\n",
      "[%] File Downloaded !\n",
      "\n",
      "\n",
      "\n",
      "[!!]Indexing page: 4\n",
      "\n",
      "[%] Indexed 8 Images on Page 4.\n",
      "\n",
      "===============================================\n",
      "\n",
      "[%] Downloading Image #26 from https://www.minnesotawildflowers.info/udata/r9ndp23q/pd/cardamine-pratensis-67836-30.jpg\n",
      "[%] File Downloaded !\n",
      "\n",
      "[%] Downloading Image #27 from https://hative.com/wp-content/uploads/2014/12/seashell-project-ideas/8-seashell-flower.jpg\n",
      "[%] File Downloaded !\n",
      "\n",
      "[%] Downloading Image #28 from http://myamazingthings.com/wp-content/uploads/2017/05/stairs-flowers-8-.jpg\n",
      "[%] File Downloaded !\n",
      "\n",
      "[%] Downloading Image #29 from https://www.enoivado.com.br/wp-content/uploads/2017/01/decoracao-de-casamento-com-origami-centro-de-mesa-9.jpg\n",
      "[%] File Downloaded !\n",
      "\n",
      "[%] Downloading Image #30 from https://www.minnesotawildflowers.info/udata/r9ndp23q/pink/pointed-leaf-tick-trefoil_0719_104614.jpg\n",
      "[%] File Downloaded !\n",
      "\n",
      "\n",
      "\n",
      "[%] Done. Downloaded 30 images.\n",
      "\n",
      "===============================================\n",
      "\n"
     ]
    }
   ],
   "source": [
    "downloader.download(\"flower\", limit=30, output_dir = 'images', adult_filter_off=True)"
   ]
  },
  {
   "cell_type": "code",
   "execution_count": 6,
   "metadata": {
    "colab": {
     "base_uri": "https://localhost:8080/"
    },
    "id": "DLPy6PBG4cIJ",
    "outputId": "0eb0197b-41ef-4e96-fe95-189131fb4905"
   },
   "outputs": [
    {
     "name": "stdout",
     "output_type": "stream",
     "text": [
      "\n",
      "\n",
      "[!!]Indexing page: 1\n",
      "\n",
      "[%] Indexed 8 Images on Page 1.\n",
      "\n",
      "===============================================\n",
      "\n",
      "[%] Downloading Image #1 from https://www.irishwildflowers.ie/images/trees/t-20a5.jpg\n",
      "[%] File Downloaded !\n",
      "\n",
      "[%] Downloading Image #2 from https://flashbak.com/wp-content/uploads/2016/12/Christmas-tree-mom-31.jpg\n",
      "[%] File Downloaded !\n",
      "\n",
      "[%] Downloading Image #3 from https://www.irishwildflowers.ie/images/trees/t-21a5.jpg\n",
      "[%] File Downloaded !\n",
      "\n",
      "[%] Downloading Image #4 from https://www.plantant.com/supplierimages/image.php/pinus-elliottii-densa-densa-pine-south-florida-slash-pine-1000722824-1471999566.jpg?width=1000&amp;height=1000&amp;image=/public/supplierimages/plants/1000722824-1471999566.jpg\n",
      "[!] Issue getting: https://www.plantant.com/supplierimages/image.php/pinus-elliottii-densa-densa-pine-south-florida-slash-pine-1000722824-1471999566.jpg?width=1000&amp;height=1000&amp;image=/public/supplierimages/plants/1000722824-1471999566.jpg\n",
      "[!] Error:: HTTP Error 400: Bad Request\n",
      "[%] Downloading Image #4 from https://i2.wp.com/bloghogwarts.com/wp-content/uploads/2014/12/Harry-Potter-BlogHogwarts-Navidad-Arbol-Ornamento-12.jpg\n",
      "[%] File Downloaded !\n",
      "\n",
      "[%] Downloading Image #5 from http://www.minnesotawildflowers.info/udata/r9ndp23q/pd3/rhamnus-cathartica-7938749-10.jpg\n",
      "[%] File Downloaded !\n",
      "\n",
      "[%] Downloading Image #6 from http://cdn.architecturendesign.net/wp-content/uploads/2015/12/AD-Ideas-To-Decorate-Your-Home-With-Recycled-Wood-This-07.jpg\n",
      "[%] File Downloaded !\n",
      "\n",
      "[%] Downloading Image #7 from http://www.digsdigs.com/photos/charming-silver-and-blue-christmas-decor-ideas-20.jpg\n",
      "[%] File Downloaded !\n",
      "\n",
      "\n",
      "\n",
      "[!!]Indexing page: 2\n",
      "\n",
      "[%] Indexed 11 Images on Page 2.\n",
      "\n",
      "===============================================\n",
      "\n",
      "[%] Downloading Image #8 from https://myamazingthings.com/wp-content/uploads/2017/03/a6ded5946fe6fcb2718c7b6ff245f863.jpg\n",
      "[%] File Downloaded !\n",
      "\n",
      "[%] Downloading Image #9 from https://iphoneswallpapers.com/wp-content/uploads/2017/03/Flowers-Farms-Sunshine-Sunset-iPhone-Wallpaper-iphoneswallpapers_com.jpg\n",
      "[%] File Downloaded !\n",
      "\n",
      "[%] Downloading Image #10 from https://www.plantant.com/supplierimages/image.php/codiaeum-variegatum-fantasy-croton-1000326357-1377719151.jpg?width=1000&amp;height=1000&amp;image=/public/supplierimages/plants/1000326357-1377719151.jpg\n",
      "[!] Issue getting: https://www.plantant.com/supplierimages/image.php/codiaeum-variegatum-fantasy-croton-1000326357-1377719151.jpg?width=1000&amp;height=1000&amp;image=/public/supplierimages/plants/1000326357-1377719151.jpg\n",
      "[!] Error:: HTTP Error 400: Bad Request\n",
      "[%] Downloading Image #10 from https://www.viraltrix.com/wp-content/uploads/2016/01/14-paisajes-en-movimiento.gif\n",
      "[%] File Downloaded !\n",
      "\n",
      "[%] Downloading Image #11 from https://www.bing.com/th/id/OGC.aea7863d3c487481ba2cf594107d3051?pid=1.7&amp;rurl=https%3a%2f%2fwww.viraltrix.com%2fwp-content%2fuploads%2f2016%2f01%2f14-paisajes-en-movimiento.gif&amp;ehk=TJG%2fzUj2kd%2bLyjdVhyRDx9yGk2FI14YlUvmNqMseflo%3d\n",
      "[!] Issue getting: https://www.bing.com/th/id/OGC.aea7863d3c487481ba2cf594107d3051?pid=1.7&amp;rurl=https%3a%2f%2fwww.viraltrix.com%2fwp-content%2fuploads%2f2016%2f01%2f14-paisajes-en-movimiento.gif&amp;ehk=TJG%2fzUj2kd%2bLyjdVhyRDx9yGk2FI14YlUvmNqMseflo%3d\n",
      "[!] Error:: HTTP Error 404: Not Found\n",
      "[%] Downloading Image #11 from http://www.thetreecenter.com/wp-content/uploads/fat-albert-colorado-blue-spruce-2.jpg\n",
      "[%] File Downloaded !\n",
      "\n",
      "[%] Downloading Image #12 from http://www.thetreecenter.com/wp-content/uploads/royal-red-butterfly-bush-1.jpg\n",
      "[%] File Downloaded !\n",
      "\n",
      "[%] Downloading Image #13 from https://cdn.designrulz.com/wp-content/uploads/2012/02/Cat_Furniture_Kattenmeubels_Kattenmeubelen_UrbanCatDesign_Gallery_1_F43.jpg\n",
      "[%] File Downloaded !\n",
      "\n",
      "[%] Downloading Image #14 from http://www.magment.com/wp-content/uploads/2016/11/Valentines-Day-Wedding-Centerpiece.jpg\n",
      "[%] File Downloaded !\n",
      "\n",
      "[%] Downloading Image #15 from http://www.digsdigs.com/photos/fun-and-creative-sleigh-decor-ideas-for-christmas-14-554x832.jpg\n",
      "[%] File Downloaded !\n",
      "\n",
      "[%] Downloading Image #16 from http://img10.3lian.com/sc6/show02/58/67/15.jpg\n",
      "[!] Issue getting: http://img10.3lian.com/sc6/show02/58/67/15.jpg\n",
      "[!] Error:: <urlopen error [Errno 11001] getaddrinfo failed>\n",
      "\n",
      "\n",
      "[!!]Indexing page: 3\n",
      "\n",
      "[%] Indexed 7 Images on Page 3.\n",
      "\n",
      "===============================================\n",
      "\n",
      "[%] Downloading Image #16 from https://www.minnesotawildflowers.info/udata/r9ndp23q/pd3/cornus-sericea-43.jpg\n",
      "[%] File Downloaded !\n",
      "\n",
      "[%] Downloading Image #17 from https://wallpapershome.com/images/wallpapers/road-1280x720-4k-hd-wallpaper-clouds-day-sky-dream-127.jpg\n",
      "[%] File Downloaded !\n",
      "\n",
      "[%] Downloading Image #18 from http://idei-dekoru.com/wp-content/uploads/2017/11/ec59c5278223b5438326dc3d377484ca.jpg\n",
      "[%] File Downloaded !\n",
      "\n",
      "[%] Downloading Image #19 from https://9jaflaver.com/wp-content/uploads/2017/12/Man-Hangs-Himself-On-A-Tree-At-Lagos-Airport-Way-This-Morning2.jpg\n",
      "[%] File Downloaded !\n",
      "\n",
      "[%] Downloading Image #20 from https://www.pixelstalk.net/wp-content/uploads/2016/03/Cute-spring-flower-wallpaper.jpg\n",
      "[%] File Downloaded !\n",
      "\n",
      "[%] Downloading Image #21 from http://messagenote.com/wp-content/uploads/2015/08/interesting-concept.jpg\n",
      "[%] File Downloaded !\n",
      "\n",
      "[%] Downloading Image #22 from http://www.all-creatures.org/hope/gw/Amazon_rainforest_layers.jpg\n",
      "[%] File Downloaded !\n",
      "\n",
      "\n",
      "\n",
      "[!!]Indexing page: 4\n",
      "\n",
      "[%] Indexed 9 Images on Page 4.\n",
      "\n",
      "===============================================\n",
      "\n",
      "[%] Downloading Image #23 from http://www.thetreecenter.com/wp-content/uploads/fat-albert-colorado-blue-spruce-2.jpg\n",
      "[%] File Downloaded !\n",
      "\n",
      "[%] Downloading Image #24 from http://img10.3lian.com/sc6/show02/58/67/15.jpg\n",
      "[!] Issue getting: http://img10.3lian.com/sc6/show02/58/67/15.jpg\n",
      "[!] Error:: <urlopen error [Errno 11001] getaddrinfo failed>\n",
      "[%] Downloading Image #24 from http://www.thetreecenter.com/wp-content/uploads/royal-red-butterfly-bush-1.jpg\n",
      "[%] File Downloaded !\n",
      "\n",
      "[%] Downloading Image #25 from http://www.digsdigs.com/photos/fun-and-creative-sleigh-decor-ideas-for-christmas-14-554x832.jpg\n",
      "[%] File Downloaded !\n",
      "\n",
      "[%] Downloading Image #26 from http://www.magment.com/wp-content/uploads/2016/11/Valentines-Day-Wedding-Centerpiece.jpg\n",
      "[%] File Downloaded !\n",
      "\n",
      "[%] Downloading Image #27 from https://www.viraltrix.com/wp-content/uploads/2016/01/14-paisajes-en-movimiento.gif\n",
      "[%] File Downloaded !\n",
      "\n",
      "[%] Downloading Image #28 from https://www.bing.com/th/id/OGC.aea7863d3c487481ba2cf594107d3051?pid=1.7&amp;rurl=https%3a%2f%2fwww.viraltrix.com%2fwp-content%2fuploads%2f2016%2f01%2f14-paisajes-en-movimiento.gif&amp;ehk=TJG%2fzUj2kd%2bLyjdVhyRDx9yGk2FI14YlUvmNqMseflo%3d\n",
      "[!] Issue getting: https://www.bing.com/th/id/OGC.aea7863d3c487481ba2cf594107d3051?pid=1.7&amp;rurl=https%3a%2f%2fwww.viraltrix.com%2fwp-content%2fuploads%2f2016%2f01%2f14-paisajes-en-movimiento.gif&amp;ehk=TJG%2fzUj2kd%2bLyjdVhyRDx9yGk2FI14YlUvmNqMseflo%3d\n",
      "[!] Error:: HTTP Error 404: Not Found\n",
      "[%] Downloading Image #28 from https://cdn.designrulz.com/wp-content/uploads/2012/02/Cat_Furniture_Kattenmeubels_Kattenmeubelen_UrbanCatDesign_Gallery_1_F43.jpg\n",
      "[%] File Downloaded !\n",
      "\n",
      "[%] Downloading Image #29 from https://iphoneswallpapers.com/wp-content/uploads/2017/03/Flowers-Farms-Sunshine-Sunset-iPhone-Wallpaper-iphoneswallpapers_com.jpg\n",
      "[%] File Downloaded !\n",
      "\n",
      "\n",
      "\n",
      "[!!]Indexing page: 5\n",
      "\n",
      "[%] Indexed 5 Images on Page 5.\n",
      "\n",
      "===============================================\n",
      "\n",
      "[%] Downloading Image #30 from http://www.minnesotawildflowers.info/udata/r9ndp23q/pd3/rhamnus-cathartica-7938749-10.jpg\n",
      "[%] File Downloaded !\n",
      "\n",
      "\n",
      "\n",
      "[%] Done. Downloaded 30 images.\n",
      "\n",
      "===============================================\n",
      "\n"
     ]
    }
   ],
   "source": [
    "downloader.download(\"tree\", limit=30, output_dir = 'images', adult_filter_off=True)"
   ]
  },
  {
   "cell_type": "code",
   "execution_count": null,
   "metadata": {
    "colab": {
     "base_uri": "https://localhost:8080/"
    },
    "id": "xJBXPJH54nCq",
    "outputId": "e9ff433c-1557-435f-feb5-22e27bac0e4e"
   },
   "outputs": [],
   "source": []
  },
  {
   "cell_type": "code",
   "execution_count": null,
   "metadata": {
    "colab": {
     "base_uri": "https://localhost:8080/"
    },
    "id": "PZAZD9R64r7a",
    "outputId": "6699926a-b40c-4172-cbc3-d6bd8b964d6a"
   },
   "outputs": [],
   "source": []
  },
  {
   "cell_type": "code",
   "execution_count": null,
   "metadata": {
    "colab": {
     "base_uri": "https://localhost:8080/"
    },
    "id": "j8wdhjI14tWJ",
    "outputId": "a7f34a1d-8cfc-4b7d-f324-bb4db0c4b252"
   },
   "outputs": [],
   "source": [
    "\n"
   ]
  },
  {
   "cell_type": "code",
   "execution_count": 7,
   "metadata": {
    "colab": {
     "base_uri": "https://localhost:8080/"
    },
    "id": "x6hqeg3s46aK",
    "outputId": "8befc75c-6647-49a2-b648-e61e314fc74b"
   },
   "outputs": [
    {
     "name": "stdout",
     "output_type": "stream",
     "text": [
      "\n",
      "\n",
      "[!!]Indexing page: 1\n",
      "\n",
      "[%] Indexed 11 Images on Page 1.\n",
      "\n",
      "===============================================\n",
      "\n",
      "[%] Downloading Image #1 from https://www.profootballhof.com/assets/1/19/PreseasonSchedule1050.jpg?76132\n",
      "[%] File Downloaded !\n",
      "\n",
      "[%] Downloading Image #2 from https://hdwallpapers.move.pk/wp-content/uploads/2015/08/Nike-football.jpg\n",
      "[%] File Downloaded !\n",
      "\n",
      "[%] Downloading Image #3 from https://img.thedailybeast.com/image/upload/c_crop,d_placeholder_euli9k,h_1439,w_2560,x_0,y_0/dpr_2.0/c_limit,w_740/fl_lossy,q_auto/v1492194977/articles/2014/10/04/college-football-fattens-players-up-and-then-abandons-them/141003-Demirel-football-obesity-tease_bpmnnw\n",
      "[%] File Downloaded !\n",
      "\n",
      "[%] Downloading Image #4 from https://wallpapershome.com/images/wallpapers/rugby-5120x2880-american-football-5k-17822.jpg\n",
      "[%] File Downloaded !\n",
      "\n",
      "[%] Downloading Image #5 from https://i.ytimg.com/vi/U4JOLr3x6lY/maxresdefault.jpg\n",
      "[%] File Downloaded !\n",
      "\n",
      "[%] Downloading Image #6 from https://s3.envato.com/files/151625295/01_preview1.jpg\n",
      "[%] File Downloaded !\n",
      "\n",
      "[%] Downloading Image #7 from https://wallpapershome.com/images/wallpapers/football-1080x1920-toni-kroos-soccer-the-best-players-2015-fifa-real-2580.jpg\n",
      "[%] File Downloaded !\n",
      "\n",
      "[%] Downloading Image #8 from https://kubrick.htvapps.com/htv-prod-media.s3.amazonaws.com/images/philadelphia-eagles-1602612159.jpg?crop=1.00xw:1.00xh;0,0&amp;resize=1200:*\n",
      "[%] File Downloaded !\n",
      "\n",
      "[%] Downloading Image #9 from https://www.libertygames.co.uk/images/1/products/839_the-flintstones-pinball.jpg\n",
      "[%] File Downloaded !\n",
      "\n",
      "[%] Downloading Image #10 from https://www.tout-pour-ton-mobile.com/wp-content/uploads/2010/02/0320.gif\n",
      "[%] File Downloaded !\n",
      "\n",
      "[%] Downloading Image #11 from https://www.bing.com/th/id/OGC.2c57b1d5bf81377c2fa45a359ea99334?pid=1.7&amp;rurl=https%3a%2f%2fwww.tout-pour-ton-mobile.com%2fwp-content%2fuploads%2f2010%2f02%2f0320.gif&amp;ehk=sA31J08iYwGmYA4iJFGaFYcBpEF6HSqZcm4peN1N9yM%3d\n",
      "[!] Issue getting: https://www.bing.com/th/id/OGC.2c57b1d5bf81377c2fa45a359ea99334?pid=1.7&amp;rurl=https%3a%2f%2fwww.tout-pour-ton-mobile.com%2fwp-content%2fuploads%2f2010%2f02%2f0320.gif&amp;ehk=sA31J08iYwGmYA4iJFGaFYcBpEF6HSqZcm4peN1N9yM%3d\n",
      "[!] Error:: HTTP Error 404: Not Found\n",
      "\n",
      "\n",
      "[!!]Indexing page: 2\n",
      "\n",
      "[%] Indexed 9 Images on Page 2.\n",
      "\n",
      "===============================================\n",
      "\n",
      "[%] Downloading Image #11 from https://www.pcclean.io/wp-content/gallery/soccer-hd-wallpapers/482000.jpg\n",
      "[%] File Downloaded !\n",
      "\n",
      "[%] Downloading Image #12 from http://www.pixelstalk.net/wp-content/uploads/2016/07/Cool-Soccer-Background-620x388.jpg\n",
      "[%] File Downloaded !\n",
      "\n",
      "[%] Downloading Image #13 from https://wallpapershome.com/images/wallpapers/football-3840x2160-toni-kroos-soccer-the-best-players-2015-fifa-real-2580.jpg\n",
      "[%] File Downloaded !\n",
      "\n",
      "[%] Downloading Image #14 from https://www.thevintagenews.com/wp-content/uploads/2019/04/gm0jxdzt.jpg\n",
      "[%] File Downloaded !\n",
      "\n",
      "[%] Downloading Image #15 from https://thumbs.dreamstime.com/x/dirty-football-soccer-boots-818795.jpg\n",
      "[%] File Downloaded !\n",
      "\n",
      "[%] Downloading Image #16 from https://www.solidrop.net/photo-7/45-cm-english-fa-premiership-trophy-premier-league-trophy-replica-cup-barclay-trophies-and-awards.jpg\n",
      "[%] File Downloaded !\n",
      "\n",
      "[%] Downloading Image #17 from https://rubberboundcop.com/wp-content/uploads/2016/12/RBCM2016-4.jpg\n",
      "[%] File Downloaded !\n",
      "\n",
      "[%] Downloading Image #18 from https://www.netanimations.net/tumblr_m665rtfae51rxlmf0o1_250.gif\n",
      "[%] File Downloaded !\n",
      "\n",
      "[%] Downloading Image #19 from https://www.bing.com/th/id/OGC.5a9f650ac64cddd3f405346c754522fd?pid=1.7&amp;rurl=https%3a%2f%2fwww.netanimations.net%2ftumblr_m665rtfae51rxlmf0o1_250.gif&amp;ehk=ZzHGapuilkPxVGyGk6KTn0E52tnELsyatU8Iuougf9E%3d\n",
      "[!] Issue getting: https://www.bing.com/th/id/OGC.5a9f650ac64cddd3f405346c754522fd?pid=1.7&amp;rurl=https%3a%2f%2fwww.netanimations.net%2ftumblr_m665rtfae51rxlmf0o1_250.gif&amp;ehk=ZzHGapuilkPxVGyGk6KTn0E52tnELsyatU8Iuougf9E%3d\n",
      "[!] Error:: HTTP Error 404: Not Found\n",
      "\n",
      "\n",
      "[!!]Indexing page: 3\n",
      "\n",
      "[%] Indexed 8 Images on Page 3.\n",
      "\n",
      "===============================================\n",
      "\n",
      "[%] Downloading Image #19 from http://www.pixelstalk.net/wp-content/uploads/2016/07/Cool-Soccer-Background-620x388.jpg\n",
      "[%] File Downloaded !\n",
      "\n",
      "[%] Downloading Image #20 from https://wallpapershome.com/images/wallpapers/football-3840x2160-toni-kroos-soccer-the-best-players-2015-fifa-real-2580.jpg\n",
      "[%] File Downloaded !\n",
      "\n",
      "[%] Downloading Image #21 from https://www.thevintagenews.com/wp-content/uploads/2019/04/gm0jxdzt.jpg\n",
      "[%] File Downloaded !\n",
      "\n",
      "[%] Downloading Image #22 from https://thumbs.dreamstime.com/x/dirty-football-soccer-boots-818795.jpg\n",
      "[%] File Downloaded !\n",
      "\n",
      "[%] Downloading Image #23 from https://www.solidrop.net/photo-7/45-cm-english-fa-premiership-trophy-premier-league-trophy-replica-cup-barclay-trophies-and-awards.jpg\n",
      "[%] File Downloaded !\n",
      "\n",
      "[%] Downloading Image #24 from https://rubberboundcop.com/wp-content/uploads/2016/12/RBCM2016-4.jpg\n",
      "[%] File Downloaded !\n",
      "\n",
      "[%] Downloading Image #25 from https://www.netanimations.net/tumblr_m665rtfae51rxlmf0o1_250.gif\n",
      "[%] File Downloaded !\n",
      "\n",
      "[%] Downloading Image #26 from https://www.bing.com/th/id/OGC.5a9f650ac64cddd3f405346c754522fd?pid=1.7&amp;rurl=https%3a%2f%2fwww.netanimations.net%2ftumblr_m665rtfae51rxlmf0o1_250.gif&amp;ehk=ZzHGapuilkPxVGyGk6KTn0E52tnELsyatU8Iuougf9E%3d\n",
      "[!] Issue getting: https://www.bing.com/th/id/OGC.5a9f650ac64cddd3f405346c754522fd?pid=1.7&amp;rurl=https%3a%2f%2fwww.netanimations.net%2ftumblr_m665rtfae51rxlmf0o1_250.gif&amp;ehk=ZzHGapuilkPxVGyGk6KTn0E52tnELsyatU8Iuougf9E%3d\n",
      "[!] Error:: HTTP Error 404: Not Found\n",
      "\n",
      "\n",
      "[!!]Indexing page: 4\n",
      "\n",
      "[%] Indexed 7 Images on Page 4.\n",
      "\n",
      "===============================================\n",
      "\n",
      "[%] Downloading Image #26 from https://wallpapershome.com/images/wallpapers/football-3840x2160-toni-kroos-soccer-the-best-players-2015-fifa-real-2580.jpg\n",
      "[%] File Downloaded !\n",
      "\n",
      "[%] Downloading Image #27 from https://www.netanimations.net/tumblr_m665rtfae51rxlmf0o1_250.gif\n",
      "[%] File Downloaded !\n",
      "\n",
      "[%] Downloading Image #28 from https://www.bing.com/th/id/OGC.5a9f650ac64cddd3f405346c754522fd?pid=1.7&amp;rurl=https%3a%2f%2fwww.netanimations.net%2ftumblr_m665rtfae51rxlmf0o1_250.gif&amp;ehk=ZzHGapuilkPxVGyGk6KTn0E52tnELsyatU8Iuougf9E%3d\n",
      "[!] Issue getting: https://www.bing.com/th/id/OGC.5a9f650ac64cddd3f405346c754522fd?pid=1.7&amp;rurl=https%3a%2f%2fwww.netanimations.net%2ftumblr_m665rtfae51rxlmf0o1_250.gif&amp;ehk=ZzHGapuilkPxVGyGk6KTn0E52tnELsyatU8Iuougf9E%3d\n",
      "[!] Error:: HTTP Error 404: Not Found\n",
      "[%] Downloading Image #28 from https://www.thevintagenews.com/wp-content/uploads/2019/04/gm0jxdzt.jpg\n",
      "[%] File Downloaded !\n",
      "\n",
      "[%] Downloading Image #29 from https://thumbs.dreamstime.com/x/dirty-football-soccer-boots-818795.jpg\n",
      "[%] File Downloaded !\n",
      "\n",
      "[%] Downloading Image #30 from https://www.solidrop.net/photo-7/45-cm-english-fa-premiership-trophy-premier-league-trophy-replica-cup-barclay-trophies-and-awards.jpg\n",
      "[%] File Downloaded !\n",
      "\n",
      "\n",
      "\n",
      "[%] Done. Downloaded 30 images.\n",
      "\n",
      "===============================================\n",
      "\n"
     ]
    }
   ],
   "source": [
    "downloader.download(\"football ball\", limit=30, output_dir = 'images', adult_filter_off=True)"
   ]
  },
  {
   "cell_type": "code",
   "execution_count": 8,
   "metadata": {
    "colab": {
     "base_uri": "https://localhost:8080/"
    },
    "id": "TKal6dd44_rq",
    "outputId": "6e47ca44-d112-4d53-e9fe-ee33407ff1fa"
   },
   "outputs": [
    {
     "name": "stdout",
     "output_type": "stream",
     "text": [
      "Collecting ipython-autotime\n",
      "  Downloading ipython_autotime-0.3.1-py2.py3-none-any.whl (6.8 kB)\n",
      "Requirement already satisfied: ipython in c:\\programdata\\anaconda3\\lib\\site-packages (from ipython-autotime) (7.12.0)\n",
      "Requirement already satisfied: pygments in c:\\programdata\\anaconda3\\lib\\site-packages (from ipython->ipython-autotime) (2.5.2)\n",
      "Requirement already satisfied: prompt-toolkit!=3.0.0,!=3.0.1,<3.1.0,>=2.0.0 in c:\\programdata\\anaconda3\\lib\\site-packages (from ipython->ipython-autotime) (3.0.3)\n",
      "Requirement already satisfied: setuptools>=18.5 in c:\\programdata\\anaconda3\\lib\\site-packages (from ipython->ipython-autotime) (45.2.0.post20200210)\n",
      "Requirement already satisfied: traitlets>=4.2 in c:\\programdata\\anaconda3\\lib\\site-packages (from ipython->ipython-autotime) (4.3.3)\n",
      "Requirement already satisfied: colorama; sys_platform == \"win32\" in c:\\programdata\\anaconda3\\lib\\site-packages (from ipython->ipython-autotime) (0.4.1)\n",
      "Requirement already satisfied: pickleshare in c:\\programdata\\anaconda3\\lib\\site-packages (from ipython->ipython-autotime) (0.7.5)\n",
      "Requirement already satisfied: decorator in c:\\programdata\\anaconda3\\lib\\site-packages (from ipython->ipython-autotime) (4.4.0)\n",
      "Requirement already satisfied: backcall in c:\\programdata\\anaconda3\\lib\\site-packages (from ipython->ipython-autotime) (0.1.0)\n",
      "Requirement already satisfied: jedi>=0.10 in c:\\programdata\\anaconda3\\lib\\site-packages (from ipython->ipython-autotime) (0.14.1)\n",
      "Requirement already satisfied: wcwidth in c:\\programdata\\anaconda3\\lib\\site-packages (from prompt-toolkit!=3.0.0,!=3.0.1,<3.1.0,>=2.0.0->ipython->ipython-autotime) (0.1.8)\n",
      "Requirement already satisfied: six in c:\\programdata\\anaconda3\\lib\\site-packages (from traitlets>=4.2->ipython->ipython-autotime) (1.10.0)\n",
      "Requirement already satisfied: ipython-genutils in c:\\programdata\\anaconda3\\lib\\site-packages (from traitlets>=4.2->ipython->ipython-autotime) (0.2.0)\n",
      "Requirement already satisfied: parso>=0.5.0 in c:\\programdata\\anaconda3\\lib\\site-packages (from jedi>=0.10->ipython->ipython-autotime) (0.5.2)\n",
      "Installing collected packages: ipython-autotime\n",
      "Successfully installed ipython-autotime-0.3.1\n"
     ]
    }
   ],
   "source": [
    "!pip install ipython-autotime"
   ]
  },
  {
   "cell_type": "code",
   "execution_count": 9,
   "metadata": {
    "colab": {
     "base_uri": "https://localhost:8080/"
    },
    "id": "coz6R73c7JHM",
    "outputId": "0d0fafee-005e-49f4-cdb4-e25dab5abab6"
   },
   "outputs": [
    {
     "name": "stdout",
     "output_type": "stream",
     "text": [
      "time: 0 ns (started: 2021-05-25 12:10:15 +05:30)\n"
     ]
    }
   ],
   "source": [
    "%load_ext autotime\n"
   ]
  },
  {
   "cell_type": "code",
   "execution_count": 11,
   "metadata": {
    "colab": {
     "base_uri": "https://localhost:8080/"
    },
    "id": "Msg9kAcs7WMJ",
    "outputId": "63d2e25b-c5fd-4e66-ff73-8030ab3a4796"
   },
   "outputs": [
    {
     "name": "stdout",
     "output_type": "stream",
     "text": [
      "time: 0 ns (started: 2021-05-25 12:10:31 +05:30)\n"
     ]
    }
   ],
   "source": [
    "import os\n",
    "import numpy as np\n",
    "import pandas as pd\n",
    "import matplotlib.pyplot as plt\n",
    "from skimage.io import imread\n",
    "from skimage.transform import resize"
   ]
  },
  {
   "cell_type": "code",
   "execution_count": 13,
   "metadata": {
    "colab": {
     "base_uri": "https://localhost:8080/"
    },
    "id": "w4HLobG47Xl5",
    "outputId": "b65a5956-65b0-4785-8205-e5c00c54f4d0"
   },
   "outputs": [
    {
     "name": "stdout",
     "output_type": "stream",
     "text": [
      "time: 17.4 s (started: 2021-05-25 12:10:42 +05:30)\n"
     ]
    }
   ],
   "source": [
    "datadir = 'images/'\n",
    "\n",
    "categories = ['flower','football ball','tree'] \n",
    "target = []\n",
    "flat_data = []\n",
    "images= []\n",
    "\n",
    "for i in categories:\n",
    "  class_num = categories.index(i)\n",
    "  path = os.path.join(datadir,i)\n",
    "  for img in os.listdir(path):\n",
    "    img_array = imread(os.path.join(path,img))\n",
    "\n",
    "    img_resized = resize(img_array,(150,150,3)) \n",
    "    flat_data.append(img_resized.flatten())\n",
    "    images.append(img_resized)\n",
    "    target.append(class_num)\n",
    "\n",
    "flat_data = np.array(flat_data)\n",
    "target = np.array(target)\n",
    "images = np.array(images)"
   ]
  },
  {
   "cell_type": "code",
   "execution_count": 14,
   "metadata": {
    "colab": {
     "base_uri": "https://localhost:8080/"
    },
    "id": "XXsx5HoT9Lkc",
    "outputId": "65e86eec-7a83-413c-ee81-f60a1a1c8de5"
   },
   "outputs": [
    {
     "data": {
      "text/plain": [
       "(array([0, 1, 2]), array([30, 30, 30], dtype=int64))"
      ]
     },
     "execution_count": 14,
     "metadata": {},
     "output_type": "execute_result"
    },
    {
     "name": "stdout",
     "output_type": "stream",
     "text": [
      "time: 0 ns (started: 2021-05-25 12:10:59 +05:30)\n"
     ]
    }
   ],
   "source": [
    "np.unique(target, return_counts=True)"
   ]
  },
  {
   "cell_type": "code",
   "execution_count": 15,
   "metadata": {
    "colab": {
     "base_uri": "https://localhost:8080/"
    },
    "id": "W7lXgE5dYalQ",
    "outputId": "b46e1548-4803-4937-f51f-96cb357d11f6"
   },
   "outputs": [
    {
     "name": "stdout",
     "output_type": "stream",
     "text": [
      "time: 2.14 s (started: 2021-05-25 12:11:01 +05:30)\n"
     ]
    }
   ],
   "source": [
    "from sklearn.model_selection import train_test_split\n",
    "x_train,x_test,y_train,y_test = train_test_split(flat_data,target,test_size=0.3, random_state=109)\n"
   ]
  },
  {
   "cell_type": "code",
   "execution_count": 16,
   "metadata": {
    "colab": {
     "base_uri": "https://localhost:8080/"
    },
    "id": "NtYf7emc9v0L",
    "outputId": "8a42fab1-7848-4493-cb0b-039476130d1d"
   },
   "outputs": [
    {
     "name": "stdout",
     "output_type": "stream",
     "text": [
      "time: 2.31 s (started: 2021-05-25 12:11:03 +05:30)\n"
     ]
    }
   ],
   "source": [
    "from sklearn.model_selection import GridSearchCV\n",
    "from sklearn import svm\n",
    "param_grid = [\n",
    "              {'C':[1,10,100,1000],'kernel':['linear']},\n",
    "              {'C':[1,10,100,1000],'gamma':[0.001,0.0001],'kernel':['rbf']},\n",
    "]"
   ]
  },
  {
   "cell_type": "code",
   "execution_count": null,
   "metadata": {
    "colab": {
     "base_uri": "https://localhost:8080/"
    },
    "id": "Uef9GHzNnsoz",
    "outputId": "b6b79eb6-9794-41da-a8d8-e81d6f4c9db5"
   },
   "outputs": [],
   "source": [
    "svc =svm.SVC(probability=True)\n",
    "clf = GridSearchCV(svc,param_grid)\n",
    "clf.fit(x_train,y_train)"
   ]
  },
  {
   "cell_type": "code",
   "execution_count": null,
   "metadata": {
    "colab": {
     "base_uri": "https://localhost:8080/"
    },
    "id": "k9rr77Cx93Y7",
    "outputId": "16eab533-11f1-4e34-a6a7-8feb15cbb1d1"
   },
   "outputs": [],
   "source": [
    "y_pred = clf.predict(x_test)\n",
    "y_pred"
   ]
  },
  {
   "cell_type": "code",
   "execution_count": null,
   "metadata": {
    "colab": {
     "base_uri": "https://localhost:8080/"
    },
    "id": "2ncsfXmjAV49",
    "outputId": "d718e471-1606-4198-f691-703412b9cfe3"
   },
   "outputs": [],
   "source": [
    "y_test"
   ]
  },
  {
   "cell_type": "code",
   "execution_count": null,
   "metadata": {
    "colab": {
     "base_uri": "https://localhost:8080/"
    },
    "id": "GPxmd7qPAZS6",
    "outputId": "3fe67e9a-c8d8-4fd7-e836-1e9288a3673c"
   },
   "outputs": [],
   "source": [
    "from sklearn.metrics import accuracy_score, confusion_matrix"
   ]
  },
  {
   "cell_type": "code",
   "execution_count": null,
   "metadata": {
    "colab": {
     "base_uri": "https://localhost:8080/"
    },
    "id": "C3nLeTiYAfXs",
    "outputId": "b60cdf62-e36c-4ae1-c727-e0b95c396c40"
   },
   "outputs": [],
   "source": [
    "accuracy_score(y_pred,y_test)"
   ]
  },
  {
   "cell_type": "code",
   "execution_count": null,
   "metadata": {
    "colab": {
     "base_uri": "https://localhost:8080/"
    },
    "id": "RN4KxsgVAjQ6",
    "outputId": "e5739cd7-ff2f-4e1a-be91-5eea36cae617"
   },
   "outputs": [],
   "source": [
    "import pickle\n",
    "pickle.dump(clf,open('img_model.p','wb'))"
   ]
  },
  {
   "cell_type": "code",
   "execution_count": null,
   "metadata": {
    "colab": {
     "base_uri": "https://localhost:8080/"
    },
    "id": "CaHB0pPkAxKa",
    "outputId": "ccf6dfb4-4a1e-4a3a-bcfb-b06a446e051d"
   },
   "outputs": [],
   "source": [
    "model = pickle.load(open('img_model.p','rb'))"
   ]
  },
  {
   "cell_type": "code",
   "execution_count": null,
   "metadata": {
    "colab": {
     "base_uri": "https://localhost:8080/",
     "height": 358
    },
    "id": "gZYTGy7QA7zr",
    "outputId": "5e4e2f4b-9016-4509-c13c-64f61912a4da"
   },
   "outputs": [],
   "source": [
    "flat_data = []\n",
    "url = input('Enter your URL')\n",
    "img = imread(url)\n",
    "img_resized = resize(img,(150,150,3))\n",
    "flat_data.append(img_resized.flatten())\n",
    "flat_data = np.array(flat_data)\n",
    "print(img.shape)\n",
    "plt.imshow(img_resized)\n",
    "y_out = model.predict(flat_data)\n",
    "y_out = categories[y_out[0]]\n",
    "print(f' Predicted Output: {y_out}')"
   ]
  },
  {
   "cell_type": "code",
   "execution_count": null,
   "metadata": {
    "colab": {
     "base_uri": "https://localhost:8080/"
    },
    "id": "ZJxm9lwlB5Zd",
    "outputId": "4eecf828-2280-4cb8-aa58-dc770487ae34"
   },
   "outputs": [],
   "source": [
    "!pip install streamlit\n"
   ]
  },
  {
   "cell_type": "code",
   "execution_count": null,
   "metadata": {
    "colab": {
     "base_uri": "https://localhost:8080/"
    },
    "id": "utlN4vfUFWwz",
    "outputId": "fdfadcf7-0e78-4bbb-c98c-c6ce7b9566b9"
   },
   "outputs": [],
   "source": [
    "!pip install pyngrok"
   ]
  },
  {
   "cell_type": "code",
   "execution_count": null,
   "metadata": {
    "id": "JUwTa9kTFY6q"
   },
   "outputs": [],
   "source": [
    "from pyngrok import ngrok"
   ]
  },
  {
   "cell_type": "code",
   "execution_count": null,
   "metadata": {
    "colab": {
     "base_uri": "https://localhost:8080/"
    },
    "id": "pbQZDD92FdRa",
    "outputId": "d8698180-def3-4e7a-b517-f202c7c49438"
   },
   "outputs": [],
   "source": [
    "%%writefile app.py\n",
    "import streamlit as st\n",
    "import numpy as np\n",
    "from skimage.io import imread\n",
    "from skimage.transform import resize\n",
    "import pickle\n",
    "from PIL import Image\n",
    "st.set_option('deprecation.showfileUploaderEncoding', False)\n",
    "st.tittle('Image Classifier (ML)')\n",
    "st.text('Upload the Image')\n",
    "\n",
    "model = pickle.load(open('img_model.p','rb'))\n",
    "uploaded_file = st.file_uploader(\"choose an image...\", type= \"jpg\")\n",
    "if uploaded_file is not None:\n",
    "  img = Image.open(uploaded_file)\n",
    "  st.image(img,caption= 'Uploaded Image')\n",
    "\n",
    "  if st.button('PREDICT'):\n",
    "    categories = ['flower','football ball','tree'] \n",
    "    st.write('Result...')\n",
    "    flat_data=[]\n",
    "    img = np.array(img)\n",
    "    img_resized = resize(img,(150,150,3))\n",
    "    flat_data.append(img_resized.flatten())\n",
    "    flat_data = np.array(flat_data)\n",
    "    y_out = model.predict(flat_data)\n",
    "    y_out = categories[y_out[0]]\n",
    "    st.title(f' Predicted Output: {y_out}')\n",
    "    q = model.predict_proba(flat_data)\n",
    "    for index, item in enumerate(categories):\n",
    "      st.write(f'{item}; {q[0][index]*100}%')"
   ]
  },
  {
   "cell_type": "code",
   "execution_count": null,
   "metadata": {
    "colab": {
     "base_uri": "https://localhost:8080/"
    },
    "id": "XdjavMteFwYb",
    "outputId": "c112b5bd-c612-417e-f5de-e14cd6e170ea"
   },
   "outputs": [],
   "source": [
    "! nohup streamlit run app.py & \n",
    "url = ngrok.connect(port = ' 8501')\n",
    "url"
   ]
  },
  {
   "cell_type": "code",
   "execution_count": null,
   "metadata": {
    "id": "hL2q5HJRGAx6"
   },
   "outputs": [],
   "source": []
  }
 ],
 "metadata": {
  "colab": {
   "collapsed_sections": [],
   "name": "Untitled0.ipynb",
   "provenance": []
  },
  "kernelspec": {
   "display_name": "Python 3",
   "language": "python",
   "name": "python3"
  },
  "language_info": {
   "codemirror_mode": {
    "name": "ipython",
    "version": 3
   },
   "file_extension": ".py",
   "mimetype": "text/x-python",
   "name": "python",
   "nbconvert_exporter": "python",
   "pygments_lexer": "ipython3",
   "version": "3.7.6"
  }
 },
 "nbformat": 4,
 "nbformat_minor": 1
}
